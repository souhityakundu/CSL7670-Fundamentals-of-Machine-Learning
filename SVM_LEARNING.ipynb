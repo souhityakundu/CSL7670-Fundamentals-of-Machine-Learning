{
 "cells": [
  {
   "cell_type": "code",
   "execution_count": 4,
   "metadata": {
    "colab": {
     "base_uri": "https://localhost:8080/"
    },
    "id": "3KRFoC1LUg77",
    "outputId": "8fef5883-264c-4e44-b969-55c02ef8dbb7"
   },
   "outputs": [
    {
     "name": "stderr",
     "output_type": "stream",
     "text": [
      "C:\\Users\\user\\AppData\\Roaming\\Python\\Python311\\site-packages\\sklearn\\datasets\\_openml.py:968: FutureWarning: The default value of `parser` will change from `'liac-arff'` to `'auto'` in 1.4. You can set `parser='auto'` to silence this warning. Therefore, an `ImportError` will be raised from 1.4 if the dataset is dense and pandas is not installed. Note that the pandas parser may return different data types. See the Notes Section in fetch_openml's API doc for details.\n",
      "  warn(\n"
     ]
    },
    {
     "name": "stdout",
     "output_type": "stream",
     "text": [
      "Accuracy using linear kernel: 0.9997 \n",
      "\n",
      "[[1401    1]\n",
      " [   0 1554]]\n",
      "\n",
      " ********************\n",
      "Accuracy using poly kernel: 0.9983 \n",
      "\n",
      "[[1398    4]\n",
      " [   1 1553]]\n",
      "\n",
      " ********************\n",
      "Accuracy using rbf kernel: 0.5257 \n",
      "\n",
      "[[   0 1402]\n",
      " [   0 1554]]\n",
      "\n",
      " ********************\n",
      "Accuracy using sigmoid kernel: 0.5257 \n",
      "\n",
      "[[   0 1402]\n",
      " [   0 1554]]\n",
      "\n",
      " ********************\n"
     ]
    }
   ],
   "source": [
    "from sklearn.datasets import fetch_openml\n",
    "from sklearn.model_selection import train_test_split\n",
    "from sklearn.svm import SVC\n",
    "from sklearn.metrics import accuracy_score,confusion_matrix\n",
    "\n",
    "# Load the MNIST dataset\n",
    "mnist = fetch_openml('mnist_784', version=1)\n",
    "X, y = mnist['data'], mnist['target'].astype(int)\n",
    "\n",
    "# Filter to only include samples of digit 0 and 1\n",
    "X_binary = X[(y == 0) | (y == 1)]\n",
    "y_binary = y[(y == 0) | (y == 1)]\n",
    "\n",
    "# Split the data into training and testing sets\n",
    "X_train, X_test, y_train, y_test = train_test_split(X_binary, y_binary, test_size=0.2, random_state=42)\n",
    "\n",
    "# Train SVM classifiers with different kernels\n",
    "kernels = ['linear', 'poly', 'rbf',\"sigmoid\"]\n",
    "for kernel in kernels:\n",
    "    if kernel == 'poly':\n",
    "        # Polynomial kernel\n",
    "        svm_model = SVC(kernel='poly', degree=3, gamma='auto', random_state=42)\n",
    "    elif kernel == 'linear':\n",
    "        # Linear kernel\n",
    "        svm_model = SVC(kernel=\"linear\", gamma='auto', random_state=42)\n",
    "    elif kernel == 'sigmoid':\n",
    "        # sigmoid kernel\n",
    "        svm_model = SVC(kernel=\"sigmoid\", gamma='auto', random_state=42)\n",
    "    \n",
    "    else:\n",
    "        # Rbf kernel\n",
    "        svm_model = SVC(kernel=\"rbf\", gamma='auto', random_state=42)\n",
    "    # Train the SVM model\n",
    "    svm_model.fit(X_train, y_train)\n",
    "\n",
    "    # Predict using the trained model\n",
    "    y_pred = svm_model.predict(X_test)\n",
    "\n",
    "    # Calculate accuracy\n",
    "    accuracy = accuracy_score(y_test, y_pred)\n",
    "    confusion_mat = confusion_matrix(y_test,y_pred)\n",
    "    print(f\"Accuracy using {kernel} kernel: {accuracy:.4f}\",\"\\n\")\n",
    "    print(confusion_mat)\n",
    "    print(\"\\n\",\"*\"*20)\n"
   ]
  },
  {
   "cell_type": "code",
   "execution_count": null,
   "metadata": {},
   "outputs": [],
   "source": []
  }
 ],
 "metadata": {
  "colab": {
   "provenance": []
  },
  "kernelspec": {
   "display_name": "Python 3 (ipykernel)",
   "language": "python",
   "name": "python3"
  },
  "language_info": {
   "codemirror_mode": {
    "name": "ipython",
    "version": 3
   },
   "file_extension": ".py",
   "mimetype": "text/x-python",
   "name": "python",
   "nbconvert_exporter": "python",
   "pygments_lexer": "ipython3",
   "version": "3.11.3"
  }
 },
 "nbformat": 4,
 "nbformat_minor": 1
}
