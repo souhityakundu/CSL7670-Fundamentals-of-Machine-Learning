{
 "cells": [
  {
   "cell_type": "markdown",
   "id": "f5d2f181",
   "metadata": {},
   "source": [
    "# 1 . Lists and Loops: Write a Python function that takes a list of integers as\n",
    "# input and returns the sum of all even numbers in the list."
   ]
  },
  {
   "cell_type": "code",
   "execution_count": 1,
   "id": "505dc69f",
   "metadata": {},
   "outputs": [],
   "source": [
    "import numpy as np"
   ]
  },
  {
   "cell_type": "code",
   "execution_count": 18,
   "id": "121fc7aa",
   "metadata": {},
   "outputs": [
    {
     "name": "stdout",
     "output_type": "stream",
     "text": [
      "Enter the number of values in list:5\n",
      "enter the number:\t10\n",
      "enter the number:\t20\n",
      "enter the number:\t30\n",
      "enter the number:\t25\n",
      "enter the number:\t40\n",
      "The list is:[10, 20, 30, 25, 40] \n"
     ]
    }
   ],
   "source": [
    "n = int(input(\"Enter the number of values in list:\"))\n",
    "li = []\n",
    "for i in range(n):\n",
    "    value = int(input(\"enter the number:\\t\"))\n",
    "    li.append(value)\n",
    "print(f\"The list is:{li} \")"
   ]
  },
  {
   "cell_type": "code",
   "execution_count": 19,
   "id": "2747c9c9",
   "metadata": {},
   "outputs": [],
   "source": [
    "def sum_even(li):\n",
    "    sums = 0\n",
    "    for item in li:\n",
    "        if(item%2==0):\n",
    "            sums+=item\n",
    "        else:\n",
    "            pass\n",
    "    return sums"
   ]
  },
  {
   "cell_type": "code",
   "execution_count": 20,
   "id": "0c04e5af",
   "metadata": {},
   "outputs": [
    {
     "data": {
      "text/plain": [
       "100"
      ]
     },
     "execution_count": 20,
     "metadata": {},
     "output_type": "execute_result"
    }
   ],
   "source": [
    "sum_even(li)"
   ]
  },
  {
   "cell_type": "markdown",
   "id": "8c383672",
   "metadata": {},
   "source": [
    "# 2. List Comprehension: Given a list of words, create a new list containing\n",
    "# the length of each word using list comprehension."
   ]
  },
  {
   "cell_type": "code",
   "execution_count": 15,
   "id": "237550eb",
   "metadata": {},
   "outputs": [
    {
     "name": "stdout",
     "output_type": "stream",
     "text": [
      "Enter the number of words in list:5\n",
      "enter the word:\tCat\n",
      "enter the word:\tDog\n",
      "enter the word:\tCow\n",
      "enter the word:\tBuffalo\n",
      "enter the word:\tHorse\n",
      "The list is:['Cat', 'Dog', 'Cow', 'Buffalo', 'Horse'] \n"
     ]
    }
   ],
   "source": [
    "n = int(input(\"Enter the number of words in list:\"))\n",
    "li = []\n",
    "for i in range(n):\n",
    "    value = input(\"enter the word:\\t\")\n",
    "    li.append(value)\n",
    "print(f\"The list is:{li} \")"
   ]
  },
  {
   "cell_type": "code",
   "execution_count": 16,
   "id": "f9426f6a",
   "metadata": {},
   "outputs": [
    {
     "name": "stdout",
     "output_type": "stream",
     "text": [
      "[3, 3, 3, 7, 5]\n"
     ]
    }
   ],
   "source": [
    "new_list = [len(li[j]) for j in range(len(li))]\n",
    "\n",
    "print(new_list)"
   ]
  },
  {
   "cell_type": "code",
   "execution_count": null,
   "id": "04df1b98",
   "metadata": {},
   "outputs": [],
   "source": []
  },
  {
   "cell_type": "markdown",
   "id": "a9849c44",
   "metadata": {},
   "source": [
    "# 3. NumPy Array Operations: Given two NumPy arrays arr1 = np.array([1,\n",
    "# 2, 3]) and arr2 = np.array([4, 5, 6]), perform element-wise multiplication and\n",
    "# store the result in a new array."
   ]
  },
  {
   "cell_type": "code",
   "execution_count": 1,
   "id": "49bf58ca",
   "metadata": {},
   "outputs": [],
   "source": [
    "import numpy as np"
   ]
  },
  {
   "cell_type": "code",
   "execution_count": 2,
   "id": "9066bc61",
   "metadata": {},
   "outputs": [],
   "source": [
    "arr1 = np.array([1, 2, 3]) \n",
    "arr2 = np.array([4, 5, 6])\n",
    "\n",
    "arr = np.multiply(arr1,arr2)"
   ]
  },
  {
   "cell_type": "code",
   "execution_count": 3,
   "id": "c04d12c5",
   "metadata": {},
   "outputs": [
    {
     "data": {
      "text/plain": [
       "array([ 4, 10, 18])"
      ]
     },
     "execution_count": 3,
     "metadata": {},
     "output_type": "execute_result"
    }
   ],
   "source": [
    "arr"
   ]
  },
  {
   "cell_type": "code",
   "execution_count": 14,
   "id": "9d016b13",
   "metadata": {},
   "outputs": [
    {
     "data": {
      "text/plain": [
       "array([ 6,  7,  8,  9, 10, 11, 12, 13, 14, 15])"
      ]
     },
     "execution_count": 14,
     "metadata": {},
     "output_type": "execute_result"
    }
   ],
   "source": [
    "# 4. NumPy Array Slicing: Given a NumPy array data = np.arange(1, 21),\n",
    "# use array slicing to extract elements from index 5 to index 15.\n",
    "\n",
    "import numpy as np\n",
    "\n",
    "data = np.arange(1,21)\n",
    "\n",
    "data\n",
    "\n",
    "data[5:15]\n",
    "\n"
   ]
  },
  {
   "cell_type": "code",
   "execution_count": 2,
   "id": "c183bc3c",
   "metadata": {},
   "outputs": [
    {
     "data": {
      "text/plain": [
       "[<matplotlib.lines.Line2D at 0x2260b169ad0>]"
      ]
     },
     "execution_count": 2,
     "metadata": {},
     "output_type": "execute_result"
    },
    {
     "data": {
      "image/png": "[encoded data removed]",
      "text/plain": [
       "<Figure size 640x480 with 1 Axes>"
      ]
     },
     "metadata": {},
     "output_type": "display_data"
    }
   ],
   "source": [
    "\n",
    "# 5. Data Visualization with Matplotlib: Using Matplotlib, create a line\n",
    "# plot to visualize the trend of a stock’s closing price over ten days (random\n",
    "# data can be used).\n",
    "\n",
    "import matplotlib.pyplot as plt\n",
    "import numpy as np\n",
    "\n",
    "x = [1,2,3,4,5,6,7,8,9,10]\n",
    "closing_price = []\n",
    "for i in range(0,10):\n",
    "    closing_price.append(np.random.randint(0,50))\n",
    "plt.plot(x,closing_price)\n",
    "\n",
    "\n",
    "\n"
   ]
  },
  {
   "cell_type": "code",
   "execution_count": 3,
   "id": "fce78569",
   "metadata": {},
   "outputs": [
    {
     "data": {
      "text/html": [
       "<div>\n",
       "<style scoped>\n",
       "    .dataframe tbody tr th:only-of-type {\n",
       "        vertical-align: middle;\n",
       "    }\n",
       "\n",
       "    .dataframe tbody tr th {\n",
       "        vertical-align: top;\n",
       "    }\n",
       "\n",
       "    .dataframe thead th {\n",
       "        text-align: right;\n",
       "    }\n",
       "</style>\n",
       "<table border=\"1\" class=\"dataframe\">\n",
       "  <thead>\n",
       "    <tr style=\"text-align: right;\">\n",
       "      <th></th>\n",
       "      <th>age</th>\n",
       "    </tr>\n",
       "  </thead>\n",
       "  <tbody>\n",
       "    <tr>\n",
       "      <th>0</th>\n",
       "      <td>12.0</td>\n",
       "    </tr>\n",
       "    <tr>\n",
       "      <th>1</th>\n",
       "      <td>5.0</td>\n",
       "    </tr>\n",
       "    <tr>\n",
       "      <th>2</th>\n",
       "      <td>4.0</td>\n",
       "    </tr>\n",
       "    <tr>\n",
       "      <th>3</th>\n",
       "      <td>25.0</td>\n",
       "    </tr>\n",
       "    <tr>\n",
       "      <th>4</th>\n",
       "      <td>5.0</td>\n",
       "    </tr>\n",
       "    <tr>\n",
       "      <th>5</th>\n",
       "      <td>8.0</td>\n",
       "    </tr>\n",
       "    <tr>\n",
       "      <th>6</th>\n",
       "      <td>25.0</td>\n",
       "    </tr>\n",
       "    <tr>\n",
       "      <th>7</th>\n",
       "      <td>96.0</td>\n",
       "    </tr>\n",
       "    <tr>\n",
       "      <th>8</th>\n",
       "      <td>45.0</td>\n",
       "    </tr>\n",
       "    <tr>\n",
       "      <th>9</th>\n",
       "      <td>25.0</td>\n",
       "    </tr>\n",
       "  </tbody>\n",
       "</table>\n",
       "</div>"
      ],
      "text/plain": [
       "    age\n",
       "0  12.0\n",
       "1   5.0\n",
       "2   4.0\n",
       "3  25.0\n",
       "4   5.0\n",
       "5   8.0\n",
       "6  25.0\n",
       "7  96.0\n",
       "8  45.0\n",
       "9  25.0"
      ]
     },
     "execution_count": 3,
     "metadata": {},
     "output_type": "execute_result"
    }
   ],
   "source": [
    "# 6. Data Cleaning with Pandas: Given a Pandas DataFrame with a column\n",
    "# containing missing values, write a Python function to replace those missing\n",
    "# values with the mean of that column.\n",
    "\n",
    "import pandas as pd\n",
    "import numpy as np\n",
    "\n",
    "df = pd.DataFrame({\"age\":[12,5,4,None,5,8,None,96,45,None]})\n",
    "df[\"age\"].mean()\n",
    "\n",
    "def replace(df):\n",
    "    df[\"age\"].fillna(df[\"age\"].mean(),inplace = True)\n",
    "    return df\n",
    "\n",
    "replace(df)\n",
    "\n",
    "\n",
    "\n"
   ]
  },
  {
   "cell_type": "code",
   "execution_count": 4,
   "id": "bee0dd80",
   "metadata": {},
   "outputs": [
    {
     "data": {
      "text/html": [
       "<div>\n",
       "<style scoped>\n",
       "    .dataframe tbody tr th:only-of-type {\n",
       "        vertical-align: middle;\n",
       "    }\n",
       "\n",
       "    .dataframe tbody tr th {\n",
       "        vertical-align: top;\n",
       "    }\n",
       "\n",
       "    .dataframe thead th {\n",
       "        text-align: right;\n",
       "    }\n",
       "</style>\n",
       "<table border=\"1\" class=\"dataframe\">\n",
       "  <thead>\n",
       "    <tr style=\"text-align: right;\">\n",
       "      <th></th>\n",
       "      <th>age</th>\n",
       "      <th>gender</th>\n",
       "    </tr>\n",
       "  </thead>\n",
       "  <tbody>\n",
       "    <tr>\n",
       "      <th>4</th>\n",
       "      <td>45</td>\n",
       "      <td>Female</td>\n",
       "    </tr>\n",
       "    <tr>\n",
       "      <th>9</th>\n",
       "      <td>90</td>\n",
       "      <td>Female</td>\n",
       "    </tr>\n",
       "  </tbody>\n",
       "</table>\n",
       "</div>"
      ],
      "text/plain": [
       "   age  gender\n",
       "4   45  Female\n",
       "9   90  Female"
      ]
     },
     "execution_count": 4,
     "metadata": {},
     "output_type": "execute_result"
    }
   ],
   "source": [
    "# 7. Pandas DataFrame Filtering: Using Pandas, filter a DataFrame to only\n",
    "# include rows where the ’age’ column is greater than 30 and the ’gender’\n",
    "# column is ’female’.\n",
    "\n",
    "import pandas as pd\n",
    "import numpy as np\n",
    "\n",
    "df = pd.DataFrame({\"age\":[10,20,30,25,45,55,12,45,60,90],\"gender\":[\"Male\",\"Male\",\"Female\",\"Male\",\"Female\",\"Male\",\"Male\",\"Male\",\"Male\",\"Female\"]})\n",
    "\n",
    "df[(df[\"age\"]>30) & (df[\"gender\"]==\"Female\")]\n",
    "\n"
   ]
  },
  {
   "cell_type": "code",
   "execution_count": 5,
   "id": "235ca2c8",
   "metadata": {},
   "outputs": [
    {
     "data": {
      "text/plain": [
       "Country\n",
       "Australia    55.0\n",
       "England      45.0\n",
       "India        65.0\n",
       "USA          62.5\n",
       "Name: Population, dtype: float64"
      ]
     },
     "execution_count": 5,
     "metadata": {},
     "output_type": "execute_result"
    }
   ],
   "source": [
    "# 8. Pandas Grouping: Given a DataFrame with columns ’Country’ and ’Population’,\n",
    "# use Pandas to group the data by ’Country’ and calculate the average\n",
    "# population for each country.\n",
    "\n",
    "import pandas as pd\n",
    "\n",
    "df = pd.DataFrame({\"Country\":[\"India\",\"USA\",\"India\",\"Australia\",\"USA\",\"England\"],\"Population\":[120,50,10,55,75,45]})\n",
    "\n",
    "df\n",
    "\n",
    "df.groupby(\"Country\")[\"Population\"].mean()\n",
    "\n"
   ]
  },
  {
   "cell_type": "code",
   "execution_count": 6,
   "id": "ea931036",
   "metadata": {},
   "outputs": [
    {
     "data": {
      "text/plain": [
       "<Axes: xlabel='species', ylabel='ages'>"
      ]
     },
     "execution_count": 6,
     "metadata": {},
     "output_type": "execute_result"
    },
    {
     "data": {
      "image/png": "[encoded data removed]",
      "text/plain": [
       "<Figure size 640x480 with 1 Axes>"
      ]
     },
     "metadata": {},
     "output_type": "display_data"
    }
   ],
   "source": [
    "# 9. Data Visualization with Seaborn: Using Seaborn, create a box plot to\n",
    "# visualize the distribution of ages for different ’Species’ in a DataFrame.\n",
    "\n",
    "import pandas as pd\n",
    "import seaborn as sns\n",
    "\n",
    "df = pd.DataFrame({\"ages\":[10,20,30,40,50,60],\"species\":[\"type A\",\"type B\",\"type A\",\"type B\",\"type B\",\"type B\"]})\n",
    "\n",
    "sns.boxplot(x = 'species',y= \"ages\",data  =df)\n",
    "\n"
   ]
  },
  {
   "cell_type": "code",
   "execution_count": 7,
   "id": "1a20f91b",
   "metadata": {},
   "outputs": [
    {
     "data": {
      "text/html": [
       "<div>\n",
       "<style scoped>\n",
       "    .dataframe tbody tr th:only-of-type {\n",
       "        vertical-align: middle;\n",
       "    }\n",
       "\n",
       "    .dataframe tbody tr th {\n",
       "        vertical-align: top;\n",
       "    }\n",
       "\n",
       "    .dataframe thead th {\n",
       "        text-align: right;\n",
       "    }\n",
       "</style>\n",
       "<table border=\"1\" class=\"dataframe\">\n",
       "  <thead>\n",
       "    <tr style=\"text-align: right;\">\n",
       "      <th></th>\n",
       "      <th>Sales</th>\n",
       "      <th>Expenses</th>\n",
       "      <th>Profit</th>\n",
       "    </tr>\n",
       "  </thead>\n",
       "  <tbody>\n",
       "    <tr>\n",
       "      <th>0</th>\n",
       "      <td>1000</td>\n",
       "      <td>100</td>\n",
       "      <td>900</td>\n",
       "    </tr>\n",
       "    <tr>\n",
       "      <th>1</th>\n",
       "      <td>1500</td>\n",
       "      <td>200</td>\n",
       "      <td>1300</td>\n",
       "    </tr>\n",
       "    <tr>\n",
       "      <th>2</th>\n",
       "      <td>2000</td>\n",
       "      <td>300</td>\n",
       "      <td>1700</td>\n",
       "    </tr>\n",
       "    <tr>\n",
       "      <th>3</th>\n",
       "      <td>5000</td>\n",
       "      <td>400</td>\n",
       "      <td>4600</td>\n",
       "    </tr>\n",
       "    <tr>\n",
       "      <th>4</th>\n",
       "      <td>8000</td>\n",
       "      <td>500</td>\n",
       "      <td>7500</td>\n",
       "    </tr>\n",
       "    <tr>\n",
       "      <th>5</th>\n",
       "      <td>10000</td>\n",
       "      <td>600</td>\n",
       "      <td>9400</td>\n",
       "    </tr>\n",
       "  </tbody>\n",
       "</table>\n",
       "</div>"
      ],
      "text/plain": [
       "   Sales  Expenses  Profit\n",
       "0   1000       100     900\n",
       "1   1500       200    1300\n",
       "2   2000       300    1700\n",
       "3   5000       400    4600\n",
       "4   8000       500    7500\n",
       "5  10000       600    9400"
      ]
     },
     "execution_count": 7,
     "metadata": {},
     "output_type": "execute_result"
    }
   ],
   "source": [
    "# 10.Data Manipulation with Pandas: Given a Pandas DataFrame containing\n",
    "# columns ’Sales’ and ’Expenses’, create a new column ’Profit’ that calculates\n",
    "# the profit as ’Sales’ minus ’Expenses’\n",
    "\n",
    "import pandas as pd\n",
    "\n",
    "df = pd.DataFrame({\"Sales\":[1000,1500,2000,5000,8000,10000],\"Expenses\":[100,200,300,400,500,600]})\n",
    "\n",
    "df[\"Profit\"] = df[\"Sales\"] - df[\"Expenses\"]\n",
    "\n",
    "\n",
    "df\n",
    "\n"
   ]
  },
  {
   "cell_type": "code",
   "execution_count": 8,
   "id": "122b520c",
   "metadata": {},
   "outputs": [
    {
     "data": {
      "text/plain": [
       "'Name of person is: Ankan , The phone numbers are: [856412379, 7859887226, 54894941511, 959966669]'"
      ]
     },
     "execution_count": 8,
     "metadata": {},
     "output_type": "execute_result"
    }
   ],
   "source": [
    "# 11 .Dictionary Manipulation: Given a dictionary phonebook containing names\n",
    "# as keys and phone numbers as values, write a function to find and return the\n",
    "# name(s) of the person(s) with the maximum phone number(s).\n",
    "\n",
    "dic_val = {\"souhitya\":[7044123363,1234567890,56987456321],\"Abhilash\":[75698412652,98765234152],\"Ankan\":[856412379,7859887226,54894941511,959966669]}\n",
    "\n",
    "def phone(dictionary):\n",
    "    for name in dic_val:\n",
    "        x = sorted(dic_val.values())\n",
    "        if(x[0] == dic_val[name]):\n",
    "            return (f\"Name of person is: {name} , The phone numbers are: {dic_val[name]}\")\n",
    "        else:\n",
    "            pass\n",
    "        \n",
    "\n",
    "phone(dic_val)\n",
    "\n"
   ]
  },
  {
   "cell_type": "code",
   "execution_count": 9,
   "id": "63b2e7a9",
   "metadata": {},
   "outputs": [
    {
     "data": {
      "text/plain": [
       "120"
      ]
     },
     "execution_count": 9,
     "metadata": {},
     "output_type": "execute_result"
    }
   ],
   "source": [
    "# 12. Functions and Recursion: Write a recursive Python function to calculate\n",
    "# the factorial of a given positive integer.\n",
    "\n",
    "def factorial_num(n):\n",
    "    if ((n==0) or (n==1)):\n",
    "        return 1\n",
    "    else:\n",
    "        return (n*factorial_num(n-1)) \n",
    "\n",
    "factorial_num(5)\n",
    "\n"
   ]
  },
  {
   "cell_type": "code",
   "execution_count": 10,
   "id": "ebec582f",
   "metadata": {},
   "outputs": [
    {
     "name": "stdout",
     "output_type": "stream",
     "text": [
      "The integer values are:\n",
      "1\n",
      "2\n",
      "3\n",
      "4\n",
      "5\n",
      "6\n",
      "7\n",
      "8\n",
      "9\n",
      "***********************\n",
      "Sum of the values: 45\n"
     ]
    }
   ],
   "source": [
    "# 13.File Handling: Read a text file named “data.txt” that contains one number\n",
    "# per line. Write a Python script to calculate the sum of all the numbers and\n",
    "# print the result.\n",
    "\n",
    "file_data = open(\"data.txt\",mode = \"r\")\n",
    "\n",
    "s=0\n",
    "print(\"The integer values are:\")\n",
    "for x in file_data:\n",
    "    print(int(x))\n",
    "    s = s + int(x)\n",
    "print(\"***********************\")\n",
    "print(f\"Sum of the values: {s}\")\n",
    "\n"
   ]
  },
  {
   "cell_type": "code",
   "execution_count": 11,
   "id": "b838f300",
   "metadata": {},
   "outputs": [
    {
     "name": "stdout",
     "output_type": "stream",
     "text": [
      "Enter the width:\t5\n",
      "Enter the height:\t6\n",
      "********************************************\n",
      "Area of the Rectangle\t\t:30\n",
      "Perimeter of the Rectangle\t:22\n"
     ]
    }
   ],
   "source": [
    "# 14 . Object-Oriented Programming: Create a class Rectangle with attributes\n",
    "# width and height, and methods to calculate the area and perimeter. Test\n",
    "# the class by creating objects and performing calculations.\n",
    "\n",
    "class Rectangle():\n",
    "    def __init__(Self,width,height):\n",
    "        Self.width = width\n",
    "        Self.height = height\n",
    "    def area(Self):\n",
    "        return Self.width*Self.height\n",
    "    def perimeter(Self):\n",
    "        return 2*(Self.width + Self.height)\n",
    "\n",
    "w = int(input(\"Enter the width:\\t\"))\n",
    "h = int(input(\"Enter the height:\\t\"))\n",
    "print(\"********************************************\")\n",
    "# Rectangle(w,h).area()\n",
    "objects = Rectangle(w,h)\n",
    "print(f\"Area of the Rectangle\\t\\t:{objects.area()}\")\n",
    "print(f\"Perimeter of the Rectangle\\t:{objects.perimeter()}\")\n",
    "\n"
   ]
  },
  {
   "cell_type": "code",
   "execution_count": 12,
   "id": "34154031",
   "metadata": {},
   "outputs": [
    {
     "name": "stdout",
     "output_type": "stream",
     "text": [
      "[[1. 0. 0. 0. 1. 0. 0. 0. 1.]]\n"
     ]
    }
   ],
   "source": [
    "# 15.Numpy Array Manipulation: Create a 3×3 identity matrix using NumPy\n",
    "# and then convert it into a 1D array.\n",
    "\n",
    "import numpy as np\n",
    "\n",
    "ar = np.identity(3) #created a 3x3 identity matrix\n",
    "\n",
    "ar\n",
    "\n",
    "arr = np.reshape(ar,(1,9))\n",
    "\n",
    "print(arr)\n",
    "\n"
   ]
  },
  {
   "cell_type": "code",
   "execution_count": 13,
   "id": "926882da",
   "metadata": {},
   "outputs": [
    {
     "data": {
      "image/png": "[encoded data removed]",
      "text/plain": [
       "<Figure size 640x480 with 1 Axes>"
      ]
     },
     "metadata": {},
     "output_type": "display_data"
    }
   ],
   "source": [
    "# 16. Data Visualization with Matplotlib: Using Matplotlib, create a bar\n",
    "# chart to compare the average scores of students in three different subjects.\n",
    "\n",
    "import pandas as pd\n",
    "import numpy as np\n",
    "import matplotlib.pyplot as plt\n",
    "\n",
    "df = pd.DataFrame({\"Subjects\":[\"Physics\",\"Computer_Science\",\"Mathematics\"],\"Average_scores\":[88,92,97]})\n",
    "\n",
    "df\n",
    "\n",
    "plt.bar(df[\"Subjects\"],df[\"Average_scores\"],data = df)\n",
    "plt.xlabel(\"Subjects\")\n",
    "plt.ylabel(\"Avg Marks of the Students\")\n",
    "plt.show()\n",
    "\n"
   ]
  },
  {
   "cell_type": "code",
   "execution_count": null,
   "id": "d33630d0",
   "metadata": {},
   "outputs": [],
   "source": []
  }
 ],
 "metadata": {
  "kernelspec": {
   "display_name": "Python 3 (ipykernel)",
   "language": "python",
   "name": "python3"
  },
  "language_info": {
   "codemirror_mode": {
    "name": "ipython",
    "version": 3
   },
   "file_extension": ".py",
   "mimetype": "text/x-python",
   "name": "python",
   "nbconvert_exporter": "python",
   "pygments_lexer": "ipython3",
   "version": "3.11.3"
  }
 },
 "nbformat": 4,
 "nbformat_minor": 5
}
