{
 "cells": [
  {
   "cell_type": "code",
   "execution_count": 1,
   "metadata": {
    "colab": {
     "base_uri": "https://localhost:8080/",
     "height": 519
    },
    "id": "7gKa4FDcI1Oe",
    "outputId": "e084953b-e49e-4a85-ecd2-e0abb196aa18"
   },
   "outputs": [
    {
     "name": "stderr",
     "output_type": "stream",
     "text": [
      "C:\\Users\\user\\AppData\\Roaming\\Python\\Python311\\site-packages\\sklearn\\datasets\\_openml.py:968: FutureWarning: The default value of `parser` will change from `'liac-arff'` to `'auto'` in 1.4. You can set `parser='auto'` to silence this warning. Therefore, an `ImportError` will be raised from 1.4 if the dataset is dense and pandas is not installed. Note that the pandas parser may return different data types. See the Notes Section in fetch_openml's API doc for details.\n",
      "  warn(\n"
     ]
    }
   ],
   "source": [
    "# a) , b)\n",
    "import numpy as np\n",
    "import matplotlib.pyplot as plt\n",
    "from sklearn.decomposition import PCA\n",
    "from sklearn.datasets import fetch_openml\n",
    "\n",
    "# Load the MNIST dataset (or any other suitable dataset)\n",
    "mnist = fetch_openml('mnist_784')\n",
    "X = mnist.data.astype('float64') / 255.0  # Normalize pixel values to [0, 1]"
   ]
  },
  {
   "cell_type": "code",
   "execution_count": null,
   "metadata": {},
   "outputs": [],
   "source": [
    "\n",
    "# Number of principal components to retain\n",
    "# n_components = 20\n",
    "\n",
    "n_comp = [2,4,8,10,30,40,50,75,80,90,100]\n",
    "\n",
    "for n in n_comp:\n",
    "    # Perform PCA\n",
    "    pca = PCA(n_components=n)\n",
    "    X_pca = pca.fit_transform(X)\n",
    "\n",
    "\n",
    "\n",
    "    # Reconstruct the data\n",
    "    X_reconstructed = pca.inverse_transform(X_pca)\n",
    "\n",
    "    # Reshape the images for plotting\n",
    "    original_images = X.values.reshape((-1, 28, 28))\n",
    "    reconstructed_images = X_reconstructed.reshape((-1, 28, 28))\n",
    "    \n",
    "    # Plot original and reconstructed images\n",
    "    def plot_gallery(images, n_row=5, n_col=5):\n",
    "        plt.figure(figsize=(1.8 * n_col, 2.4 * n_row))\n",
    "        plt.subplots_adjust(bottom=0, left=.01, right=.99, top=.90, hspace=.35)\n",
    "        for i in range(n_row * n_col):\n",
    "            plt.subplot(n_row, n_col, i + 1)\n",
    "            plt.imshow(images[i], cmap=plt.cm.gray)\n",
    "            plt.title(f'Digit {i}')\n",
    "            plt.xticks(())\n",
    "            plt.yticks(())\n",
    "\n",
    "    # Display original images\n",
    "    plot_gallery(original_images, n_row=1, n_col=5)\n",
    "    plt.suptitle('Original Images', size=16)\n",
    "    plt.show()\n",
    "\n",
    "    # Display reconstructed images\n",
    "    plot_gallery(reconstructed_images, n_row=1, n_col=5)\n",
    "    plt.suptitle(f'Reconstructed Images (n_components={n})', size=16)\n",
    "    plt.show()\n",
    "\n"
   ]
  },
  {
   "cell_type": "code",
   "execution_count": null,
   "metadata": {},
   "outputs": [],
   "source": [
    "# C)\n",
    "import numpy as np\n",
    "n_comp = [2,4,8,10,30,40,50,75,80,90,100]\n",
    "recon_loss = []\n",
    "\n",
    "for n in n_comp:\n",
    "    # Perform PCA\n",
    "    pca = PCA(n_components=n)\n",
    "    X_pca = pca.fit_transform(X)\n",
    "    X_recon = pca.inverse_transform(X_pca)\n",
    "    loss_vals = np.mean((X - X_recon)**2)\n",
    "    recon_loss.append(loss_vals)\n",
    "\n",
    "    # Plot the reconstruction losses against different values of N\n",
    "plt.plot(n_comp, recon_loss)\n",
    "plt.title('Reconstruction Loss Values vs. Principal Components (N)')\n",
    "plt.xlabel('Principle Component Numbers (N)')\n",
    "plt.ylabel('Reconstruction Loss Values')\n",
    "plt.show()\n",
    "\n",
    "\n",
    "\n",
    "\n",
    "\n"
   ]
  },
  {
   "cell_type": "code",
   "execution_count": null,
   "metadata": {},
   "outputs": [],
   "source": [
    "X_pca"
   ]
  },
  {
   "cell_type": "code",
   "execution_count": null,
   "metadata": {},
   "outputs": [],
   "source": []
  }
 ],
 "metadata": {
  "colab": {
   "provenance": []
  },
  "kernelspec": {
   "display_name": "Python 3 (ipykernel)",
   "language": "python",
   "name": "python3"
  },
  "language_info": {
   "codemirror_mode": {
    "name": "ipython",
    "version": 3
   },
   "file_extension": ".py",
   "mimetype": "text/x-python",
   "name": "python",
   "nbconvert_exporter": "python",
   "pygments_lexer": "ipython3",
   "version": "3.11.3"
  }
 },
 "nbformat": 4,
 "nbformat_minor": 1
}
