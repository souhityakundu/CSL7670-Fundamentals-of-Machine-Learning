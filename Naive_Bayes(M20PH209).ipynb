{
 "cells": [
  {
   "cell_type": "code",
   "execution_count": 1,
   "id": "7e23abe6",
   "metadata": {},
   "outputs": [],
   "source": [
    "import pandas as pd\n",
    "import numpy as np\n",
    "import matplotlib.pyplot as plt"
   ]
  },
  {
   "cell_type": "code",
   "execution_count": 2,
   "id": "fa6bfed4",
   "metadata": {},
   "outputs": [],
   "source": [
    "df = pd.read_csv(\"data - Sheet2.csv\")"
   ]
  },
  {
   "cell_type": "code",
   "execution_count": 3,
   "id": "0c0b8d52",
   "metadata": {},
   "outputs": [
    {
     "data": {
      "text/html": [
       "<div>\n",
       "<style scoped>\n",
       "    .dataframe tbody tr th:only-of-type {\n",
       "        vertical-align: middle;\n",
       "    }\n",
       "\n",
       "    .dataframe tbody tr th {\n",
       "        vertical-align: top;\n",
       "    }\n",
       "\n",
       "    .dataframe thead th {\n",
       "        text-align: right;\n",
       "    }\n",
       "</style>\n",
       "<table border=\"1\" class=\"dataframe\">\n",
       "  <thead>\n",
       "    <tr style=\"text-align: right;\">\n",
       "      <th></th>\n",
       "      <th>Feature-1</th>\n",
       "      <th>Feature-2</th>\n",
       "      <th>Class Label</th>\n",
       "    </tr>\n",
       "  </thead>\n",
       "  <tbody>\n",
       "    <tr>\n",
       "      <th>0</th>\n",
       "      <td>60.989534</td>\n",
       "      <td>506.082788</td>\n",
       "      <td>0</td>\n",
       "    </tr>\n",
       "    <tr>\n",
       "      <th>1</th>\n",
       "      <td>4.552524</td>\n",
       "      <td>78.479751</td>\n",
       "      <td>0</td>\n",
       "    </tr>\n",
       "    <tr>\n",
       "      <th>2</th>\n",
       "      <td>130.764991</td>\n",
       "      <td>245.881327</td>\n",
       "      <td>0</td>\n",
       "    </tr>\n",
       "    <tr>\n",
       "      <th>3</th>\n",
       "      <td>232.025160</td>\n",
       "      <td>745.337567</td>\n",
       "      <td>0</td>\n",
       "    </tr>\n",
       "    <tr>\n",
       "      <th>4</th>\n",
       "      <td>39.645334</td>\n",
       "      <td>667.743960</td>\n",
       "      <td>0</td>\n",
       "    </tr>\n",
       "  </tbody>\n",
       "</table>\n",
       "</div>"
      ],
      "text/plain": [
       "    Feature-1   Feature-2  Class Label\n",
       "0   60.989534  506.082788            0\n",
       "1    4.552524   78.479751            0\n",
       "2  130.764991  245.881327            0\n",
       "3  232.025160  745.337567            0\n",
       "4   39.645334  667.743960            0"
      ]
     },
     "execution_count": 3,
     "metadata": {},
     "output_type": "execute_result"
    }
   ],
   "source": [
    "df.head(5)"
   ]
  },
  {
   "cell_type": "code",
   "execution_count": 4,
   "id": "5b3dad6a",
   "metadata": {},
   "outputs": [],
   "source": [
    "X = df.drop([\"Class Label\"],axis = 1)\n",
    "y = df[\"Class Label\"]"
   ]
  },
  {
   "cell_type": "code",
   "execution_count": 5,
   "id": "4ef41eaa",
   "metadata": {},
   "outputs": [
    {
     "data": {
      "text/plain": [
       "(       Feature-1   Feature-2\n",
       " 0      60.989534  506.082788\n",
       " 1       4.552524   78.479751\n",
       " 2     130.764991  245.881327\n",
       " 3     232.025160  745.337567\n",
       " 4      39.645334  667.743960\n",
       " ...          ...         ...\n",
       " 1993    1.229802  263.751488\n",
       " 1994   63.012099  247.358797\n",
       " 1995   77.959464  143.492312\n",
       " 1996   23.826663  357.297253\n",
       " 1997   46.397667   34.017045\n",
       " \n",
       " [1998 rows x 2 columns],\n",
       " 0       0\n",
       " 1       0\n",
       " 2       0\n",
       " 3       0\n",
       " 4       0\n",
       "        ..\n",
       " 1993    1\n",
       " 1994    1\n",
       " 1995    1\n",
       " 1996    1\n",
       " 1997    1\n",
       " Name: Class Label, Length: 1998, dtype: int64)"
      ]
     },
     "execution_count": 5,
     "metadata": {},
     "output_type": "execute_result"
    }
   ],
   "source": [
    "X,y\n",
    "#1998 rows\n"
   ]
  },
  {
   "cell_type": "code",
   "execution_count": 6,
   "id": "b0334516",
   "metadata": {},
   "outputs": [],
   "source": [
    "from sklearn.model_selection import train_test_split"
   ]
  },
  {
   "cell_type": "code",
   "execution_count": 7,
   "id": "e02a0e78",
   "metadata": {},
   "outputs": [],
   "source": [
    "X_train,X_test1,y_train,y_test1 = train_test_split(X,y,test_size = 0.3,random_state = 42)\n",
    "X_validation,X_test,y_validation,y_test = train_test_split(X_test1,y_test1,test_size = 0.33,random_state = 42)"
   ]
  },
  {
   "cell_type": "code",
   "execution_count": 8,
   "id": "29b0f59a",
   "metadata": {},
   "outputs": [
    {
     "data": {
      "text/plain": [
       "(198, 2)"
      ]
     },
     "execution_count": 8,
     "metadata": {},
     "output_type": "execute_result"
    }
   ],
   "source": [
    "X_test.shape"
   ]
  },
  {
   "cell_type": "code",
   "execution_count": 9,
   "id": "bbeb5544",
   "metadata": {},
   "outputs": [],
   "source": [
    "from sklearn.naive_bayes import GaussianNB\n",
    "\n",
    "GNB = GaussianNB()\n",
    "\n",
    "GNB.fit(X_train, y_train)\n",
    "\n",
    "# Output Prediction\n",
    "predicted = GNB.predict(X_test)\n"
   ]
  },
  {
   "cell_type": "code",
   "execution_count": 10,
   "id": "6070a628",
   "metadata": {},
   "outputs": [
    {
     "name": "stdout",
     "output_type": "stream",
     "text": [
      "Actual_value:1284    1\n",
      "1759    1\n",
      "613     0\n",
      "1198    1\n",
      "1464    1\n",
      "       ..\n",
      "1125    1\n",
      "1280    1\n",
      "218     0\n",
      "909     0\n",
      "480     0\n",
      "Name: Class Label, Length: 198, dtype: int64\n",
      "Predicted_value:[1 1 0 1 1 0 0 1 1 0 0 0 0 1 1 0 0 1 0 1 0 0 1 0 0 1 1 1 0 0 1 1 1 0 0 1 1\n",
      " 0 1 0 1 0 1 1 0 0 1 0 0 0 0 1 1 1 1 0 1 0 1 1 1 1 1 0 1 0 1 1 1 1 0 0 1 0\n",
      " 1 0 0 1 1 0 1 1 0 1 1 1 0 1 1 1 0 1 1 0 1 1 1 1 0 1 0 1 0 1 1 1 1 0 0 1 0\n",
      " 0 1 1 1 0 0 1 0 0 0 1 0 1 1 1 0 1 0 1 1 1 1 1 1 1 1 1 1 0 0 1 1 0 1 1 1 0\n",
      " 0 0 0 1 0 0 1 0 0 0 1 0 1 1 1 1 1 0 1 0 1 1 1 0 1 1 0 0 1 1 1 1 0 0 0 1 0\n",
      " 0 1 0 1 0 0 1 1 1 1 0 0 1]\n"
     ]
    }
   ],
   "source": [
    "print(f\"Actual_value:{y_test}\")\n",
    "print(f\"Predicted_value:{predicted}\")"
   ]
  },
  {
   "cell_type": "code",
   "execution_count": 11,
   "id": "8718d198",
   "metadata": {},
   "outputs": [
    {
     "name": "stdout",
     "output_type": "stream",
     "text": [
      "Accuracy: 0.8939393939393939\n",
      "F1 Score: 0.8944517640169813\n"
     ]
    }
   ],
   "source": [
    "from sklearn.metrics import accuracy_score,f1_score\n",
    "\n",
    "accuracy = accuracy_score(predicted, y_test)\n",
    "f1 = f1_score(predicted, y_test, average=\"weighted\")\n",
    "\n",
    "print(f\"Accuracy: {accuracy}\")\n",
    "print(f\"F1 Score: {f1}\")"
   ]
  },
  {
   "cell_type": "code",
   "execution_count": 12,
   "id": "46e8da72",
   "metadata": {},
   "outputs": [
    {
     "data": {
      "text/plain": [
       "Feature-1      150.179968\n",
       "Feature-2      502.764772\n",
       "Class Label      0.000000\n",
       "dtype: float64"
      ]
     },
     "execution_count": 12,
     "metadata": {},
     "output_type": "execute_result"
    }
   ],
   "source": [
    "# For both the categories compute: (i) Mean (ii) Covariance\n",
    "# Matrix.\n",
    "# df[(df[\"Feature-1\"]) & (df[\"Class Label\"]==0)] This wont work because 1st feature is non boolean type rather float\n",
    "df1 = df[(~df[\"Feature-1\"].isnull()) & (df[\"Class Label\"] == 0)]\n",
    "df1.mean()"
   ]
  },
  {
   "cell_type": "code",
   "execution_count": 13,
   "id": "56a750cb",
   "metadata": {},
   "outputs": [
    {
     "data": {
      "text/plain": [
       "Feature-1       45.173738\n",
       "Feature-2      200.346970\n",
       "Class Label      1.000000\n",
       "dtype: float64"
      ]
     },
     "execution_count": 13,
     "metadata": {},
     "output_type": "execute_result"
    }
   ],
   "source": [
    "df2 = df[(~df[\"Feature-1\"].isnull()) & (df[\"Class Label\"] == 1)]\n",
    "df2.mean()"
   ]
  },
  {
   "cell_type": "code",
   "execution_count": 14,
   "id": "0301433b",
   "metadata": {},
   "outputs": [
    {
     "data": {
      "text/plain": [
       "Feature-1      150.179968\n",
       "Feature-2      502.764772\n",
       "Class Label      0.000000\n",
       "dtype: float64"
      ]
     },
     "execution_count": 14,
     "metadata": {},
     "output_type": "execute_result"
    }
   ],
   "source": [
    "df3 = df[(~df[\"Feature-2\"].isnull()) & (df[\"Class Label\"] == 0)]\n",
    "df3.mean()"
   ]
  },
  {
   "cell_type": "code",
   "execution_count": 15,
   "id": "326f06b9",
   "metadata": {},
   "outputs": [
    {
     "data": {
      "text/plain": [
       "Feature-1       45.173738\n",
       "Feature-2      200.346970\n",
       "Class Label      1.000000\n",
       "dtype: float64"
      ]
     },
     "execution_count": 15,
     "metadata": {},
     "output_type": "execute_result"
    }
   ],
   "source": [
    "df4 = df[(~df[\"Feature-2\"].isnull()) & (df[\"Class Label\"] == 1)]\n",
    "df4.mean()"
   ]
  },
  {
   "cell_type": "code",
   "execution_count": 16,
   "id": "ce459f96",
   "metadata": {},
   "outputs": [
    {
     "data": {
      "text/plain": [
       "array([[7274.99116657,    0.        ],\n",
       "       [   0.        ,    0.        ]])"
      ]
     },
     "execution_count": 16,
     "metadata": {},
     "output_type": "execute_result"
    }
   ],
   "source": [
    "np.cov(df1[\"Feature-1\"],df1[\"Class Label\"])\n"
   ]
  },
  {
   "cell_type": "code",
   "execution_count": 17,
   "id": "88518ebd",
   "metadata": {},
   "outputs": [
    {
     "data": {
      "text/plain": [
       "array([[675.40971162,   0.        ],\n",
       "       [  0.        ,   0.        ]])"
      ]
     },
     "execution_count": 17,
     "metadata": {},
     "output_type": "execute_result"
    }
   ],
   "source": [
    "np.cov(df2[\"Feature-1\"],df2[\"Class Label\"])"
   ]
  },
  {
   "cell_type": "code",
   "execution_count": 18,
   "id": "6f111b71",
   "metadata": {},
   "outputs": [
    {
     "data": {
      "text/plain": [
       "array([[82422.61505572,     0.        ],\n",
       "       [    0.        ,     0.        ]])"
      ]
     },
     "execution_count": 18,
     "metadata": {},
     "output_type": "execute_result"
    }
   ],
   "source": [
    "np.cov(df3[\"Feature-2\"],df3[\"Class Label\"])"
   ]
  },
  {
   "cell_type": "code",
   "execution_count": 19,
   "id": "606e1b0a",
   "metadata": {},
   "outputs": [
    {
     "data": {
      "text/plain": [
       "array([[13504.08218254,     0.        ],\n",
       "       [    0.        ,     0.        ]])"
      ]
     },
     "execution_count": 19,
     "metadata": {},
     "output_type": "execute_result"
    }
   ],
   "source": [
    "np.cov(df4[\"Feature-2\"],df4[\"Class Label\"])"
   ]
  },
  {
   "cell_type": "code",
   "execution_count": null,
   "id": "2901e15d",
   "metadata": {},
   "outputs": [],
   "source": []
  }
 ],
 "metadata": {
  "kernelspec": {
   "display_name": "Python 3 (ipykernel)",
   "language": "python",
   "name": "python3"
  },
  "language_info": {
   "codemirror_mode": {
    "name": "ipython",
    "version": 3
   },
   "file_extension": ".py",
   "mimetype": "text/x-python",
   "name": "python",
   "nbconvert_exporter": "python",
   "pygments_lexer": "ipython3",
   "version": "3.11.3"
  }
 },
 "nbformat": 4,
 "nbformat_minor": 5
}
